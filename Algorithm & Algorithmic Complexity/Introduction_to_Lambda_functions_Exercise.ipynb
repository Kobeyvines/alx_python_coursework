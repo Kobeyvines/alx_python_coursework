{
 "cells": [
  {
   "cell_type": "markdown",
   "id": "0",
   "metadata": {},
   "source": [
    "<div align=\"center\" style=\" font-size: 80%; text-align: center; margin: 0 auto\">\n",
    "<img src=\"https://raw.githubusercontent.com/Explore-AI/Pictures/master/Python-Notebook-Banners/Exercise.png\"  style=\"display: block; margin-left: auto; margin-right: auto;\";/>\n",
    "</div>"
   ]
  },
  {
   "cell_type": "markdown",
   "id": "1",
   "metadata": {},
   "source": [
    "# Exercise: Introduction to lambda functions\n"
   ]
  },
  {
   "cell_type": "markdown",
   "id": "2",
   "metadata": {},
   "source": [
    "In this notebook, we demonstrate the principles and implementation of lambda functions in Python."
   ]
  },
  {
   "cell_type": "markdown",
   "id": "3",
   "metadata": {
    "tags": []
   },
   "source": [
    "## Learning objectives\n",
    "\n",
    "In this train, we will learn:\n",
    "- How to write lambda functions in Python.\n",
    "- How to use lambda functions in conjunction with built-in Python functions."
   ]
  },
  {
   "cell_type": "markdown",
   "id": "4",
   "metadata": {},
   "source": [
    "## Exercises"
   ]
  },
  {
   "cell_type": "markdown",
   "id": "5",
   "metadata": {},
   "source": [
    "### Exercise 1\n",
    "\n",
    "Given the function `root` which calculates the `y`th root of a number `x`, as shown below:"
   ]
  },
  {
   "cell_type": "code",
   "execution_count": null,
   "id": "6",
   "metadata": {},
   "outputs": [],
   "source": [
    "def root(x,y):\n",
    "    return x**(1/y)"
   ]
  },
  {
   "cell_type": "markdown",
   "id": "7",
   "metadata": {},
   "source": [
    "Create an equivalent lambda function and name it `y_root`."
   ]
  },
  {
   "cell_type": "code",
   "execution_count": null,
   "id": "8",
   "metadata": {},
   "outputs": [],
   "source": [
    "y_root = lambda x, y: x**(1/y)\n",
    "print(y_root(25,2))\n",
    "print(y_root(8,3))"
   ]
  },
  {
   "cell_type": "markdown",
   "id": "9",
   "metadata": {},
   "source": [
    "Expected output:\n",
    "\n",
    "```\n",
    "y_root(25,2) == 5.0\n",
    "y_root(8,3) == 2.0\n",
    "```"
   ]
  },
  {
   "cell_type": "markdown",
   "id": "10",
   "metadata": {},
   "source": [
    "### Exercise 2 \n",
    "\n",
    "Write a lambda function named `sort`. This function should take a single argument: a list of numbers. It should return a new list with the numbers sorted in ascending order. "
   ]
  },
  {
   "cell_type": "code",
   "execution_count": null,
   "id": "11",
   "metadata": {},
   "outputs": [],
   "source": [
    "sort = lambda numbers: sorted(numbers)"
   ]
  },
  {
   "cell_type": "markdown",
   "id": "12",
   "metadata": {},
   "source": [
    "Expected output:\n",
    "```\n",
    "sort([6,2,3,9,1,5]) == [1, 2, 3, 5, 6, 9]\n",
    "```"
   ]
  },
  {
   "cell_type": "markdown",
   "id": "13",
   "metadata": {},
   "source": [
    "### Exercise 3\n",
    "\n",
    "Write a lambda function named `filtered_list` that makes use of the `filter()` function to print a `list` of integers that are greater than 9.\n",
    "\n",
    "Use `list1` as the input for the function."
   ]
  },
  {
   "cell_type": "code",
   "execution_count": null,
   "id": "14",
   "metadata": {},
   "outputs": [],
   "source": [
    "list1 = [2, 6, 8, 10, 11, 4, 12, 7, 13, 17, 0, 3, 21]\n",
    "\n",
    "filtered_list = filter(lambda x: x > 9, list1)\n",
    "print(list(filtered_list))"
   ]
  },
  {
   "cell_type": "markdown",
   "id": "15",
   "metadata": {},
   "source": [
    "Expected output:\n",
    "\n",
    "```\n",
    "[10, 11, 12, 13, 17, 21]\n",
    "```\n"
   ]
  },
  {
   "cell_type": "markdown",
   "id": "16",
   "metadata": {},
   "source": [
    "### Exercise 4\n",
    "\n",
    "Write a lambda function named `mapped_list` that makes use of the `map()` function to output the remainder after dividing each number in `list2` by 2.\n",
    "\n",
    "Use `list2` as the input for the function. Print the results as a list."
   ]
  },
  {
   "cell_type": "code",
   "execution_count": null,
   "id": "17",
   "metadata": {},
   "outputs": [],
   "source": [
    "list2 = [2, 6, 8, 10, 11, 4, 12, 7, 13, 17, 0, 3, 21]\n",
    "\n",
    "mapped_list = map(lambda x: x%2, list2)\n",
    "\n",
    "print(list(mapped_list))"
   ]
  },
  {
   "cell_type": "markdown",
   "id": "18",
   "metadata": {},
   "source": [
    "Expected output: \n",
    "\n",
    "```\n",
    "[0, 0, 0, 0, 1, 0, 0, 1, 1, 1, 0, 1, 1]\n",
    "```"
   ]
  },
  {
   "cell_type": "markdown",
   "id": "19",
   "metadata": {},
   "source": [
    "## Solutions"
   ]
  },
  {
   "cell_type": "markdown",
   "id": "20",
   "metadata": {},
   "source": [
    "### Exercise 1\n",
    "\n",
    "This lambda function `y_root` takes two arguments, `x` and `y`, and computes the `y`th root of `x`. "
   ]
  },
  {
   "cell_type": "code",
   "execution_count": null,
   "id": "21",
   "metadata": {},
   "outputs": [],
   "source": [
    "y_root = lambda x, y: x**(1/y)"
   ]
  },
  {
   "cell_type": "markdown",
   "id": "22",
   "metadata": {},
   "source": [
    "### Exercise 2\n",
    "\n",
    "To create a lambda function named `sort` that sorts a list of numbers in ascending order, we can use Python's built-in `sorted` function within the lambda.\n"
   ]
  },
  {
   "cell_type": "code",
   "execution_count": null,
   "id": "23",
   "metadata": {},
   "outputs": [],
   "source": [
    "sort = lambda numbers: sorted(numbers)"
   ]
  },
  {
   "cell_type": "markdown",
   "id": "24",
   "metadata": {},
   "source": [
    "### Exercise 3\n",
    "\n",
    "This code defines a lambda function inside the `filter()` function to filter elements greater than 9 from `list1`. It then converts the filtered result into a list and stores the result in `filtered_list`.\n"
   ]
  },
  {
   "cell_type": "code",
   "execution_count": null,
   "id": "25",
   "metadata": {},
   "outputs": [],
   "source": [
    "list1 = [2, 6, 8, 10, 11, 4, 12, 7, 13, 17, 0, 3, 21]\n",
    "\n",
    "filtered_list = list(filter(lambda x: x > 9, list1))\n",
    "\n",
    "print(filtered_list)"
   ]
  },
  {
   "cell_type": "markdown",
   "id": "26",
   "metadata": {},
   "source": [
    "### Exercise 4\n",
    "\n",
    "Our lambda function takes an input `x` and calculates the remainder when `x` is divided by `2` (`x % 2`). We use the `map()` function to apply this lambda function to each element of `list2`. This results in a mapped object that contains the remainders for each element. To obtain the final result as a list, we convert the mapped object to a list using `list()` and print the results.\n"
   ]
  },
  {
   "cell_type": "code",
   "execution_count": null,
   "id": "27",
   "metadata": {},
   "outputs": [],
   "source": [
    "list2 = [2, 6, 8, 10, 11, 4, 12, 7, 13, 17, 0, 3, 21]\n",
    "\n",
    "mapped_list = list(map(lambda x: x % 2, list2))\n",
    "\n",
    "print(mapped_list)"
   ]
  },
  {
   "cell_type": "markdown",
   "id": "28",
   "metadata": {
    "tags": []
   },
   "source": [
    "#  \n",
    "\n",
    "<div align=\"center\" style=\" font-size: 80%; text-align: center; margin: 0 auto\">\n",
    "<img src=\"https://raw.githubusercontent.com/Explore-AI/Pictures/refs/heads/master/ALX_banners/ALX_Navy.png\"  style=\"width:140px\";/>\n",
    "</div>"
   ]
  }
 ],
 "metadata": {
  "kernelspec": {
   "display_name": "kaggle_spotify_dataset",
   "language": "python",
   "name": "python3"
  },
  "language_info": {
   "codemirror_mode": {
    "name": "ipython",
    "version": 3
   },
   "file_extension": ".py",
   "mimetype": "text/x-python",
   "name": "python",
   "nbconvert_exporter": "python",
   "pygments_lexer": "ipython3",
   "version": "3.11.13"
  }
 },
 "nbformat": 4,
 "nbformat_minor": 5
}

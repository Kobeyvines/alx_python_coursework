{
 "cells": [
  {
   "cell_type": "markdown",
   "id": "0",
   "metadata": {},
   "source": [
    "<div align=\"center\" style=\" font-size: 80%; text-align: center; margin: 0 auto\">\n",
    "<img src=\"https://raw.githubusercontent.com/Explore-AI/Pictures/master/Python-Notebook-Banners/Code_challenge.png\"  style=\"display: block; margin-left: auto; margin-right: auto;\";/>\n",
    "</div>"
   ]
  },
  {
   "cell_type": "markdown",
   "id": "1",
   "metadata": {},
   "source": [
    "## Graded code challenge: Loops and functions\n",
    "© ExploreAI Academy"
   ]
  },
  {
   "cell_type": "markdown",
   "id": "2",
   "metadata": {},
   "source": [
    "In this coding challenge, we will apply our Python programming skills to automate more complex movement of our farm equipment. We will use functions to make our code more modular, making it simpler to read, modify, and extend. "
   ]
  },
  {
   "cell_type": "markdown",
   "id": "3",
   "metadata": {
    "tags": []
   },
   "source": [
    "⚠️ **NOTE that this code challenge is graded and will contribute to your overall marks for this module. Submit this notebook for grading. Note that the names of the functions are different in this notebook. Transfer the code in your notebook to this submission notebook**\n",
    "\n",
    "### Instructions\n",
    "\n",
    "- **Do not add or remove cells in this notebook. Do not edit or remove the `### START FUNCTION` or `### END FUNCTION` comments. Do not add any code outside of the functions you are required to edit. Doing any of this will lead to a mark of 0%!**\n",
    "\n",
    "- Answer the questions according to the specifications provided.\n",
    "\n",
    "- Use the given cell in each question to see if your function matches the expected outputs.\n",
    "\n",
    "- Do not hard-code answers to the questions.\n",
    "\n",
    "- The use of StackOverflow, Google, and other online tools is permitted. However, copying a fellow student's code is not permissible and is considered a breach of the Honour code. Doing this will result in a mark of 0%."
   ]
  },
  {
   "cell_type": "markdown",
   "id": "4",
   "metadata": {},
   "source": [
    "## Challenge 1: Plough the whole field"
   ]
  },
  {
   "cell_type": "markdown",
   "id": "5",
   "metadata": {},
   "source": [
    "> ⚠️ Do not change the name `tractor_movement_standard()`."
   ]
  },
  {
   "cell_type": "markdown",
   "id": "6",
   "metadata": {},
   "source": [
    "### Answer:"
   ]
  },
  {
   "cell_type": "code",
   "execution_count": null,
   "id": "7",
   "metadata": {},
   "outputs": [],
   "source": [
    "### START FUNCTION\n",
    "def tractor_movement_standard(field):\n",
    "    plough_movements = []\n",
    "    for row in range(len(field)):\n",
    "        for col in range(len(field[row])):\n",
    "            plough_movements.append((row, col)) \n",
    "\n",
    "    return plough_movements\n",
    "\n",
    "### END FUNCTION"
   ]
  },
  {
   "cell_type": "markdown",
   "id": "8",
   "metadata": {},
   "source": [
    "Test your functions again to make sure they work as expected before submitting."
   ]
  },
  {
   "cell_type": "markdown",
   "id": "9",
   "metadata": {},
   "source": [
    "### Expected outputs"
   ]
  },
  {
   "cell_type": "markdown",
   "id": "10",
   "metadata": {},
   "source": [
    "**Input 1:**"
   ]
  },
  {
   "cell_type": "code",
   "execution_count": null,
   "id": "11",
   "metadata": {},
   "outputs": [],
   "source": [
    "field_standard = [\n",
    "    ['soil3', 'soil3', 'soil1', 'soil2', 'soil2'],\n",
    "    ['soil2', 'soil3', 'soil2', 'soil1', 'soil3'],\n",
    "    ['soil2', 'soil3', 'soil1', 'soil3', 'soil3'],\n",
    "    ['soil3', 'soil2', 'soil3', 'soil3', 'soil2'],\n",
    "    ['soil3', 'soil2', 'soil1', 'soil3', 'soil2'],\n",
    "    ['soil2', 'soil3', 'soil3', 'soil1', 'soil3'],\n",
    "    ['soil3', 'soil1', 'soil3', 'soil2', 'soil2'],\n",
    "    ['soil2', 'soil1', 'soil2', 'soil2', 'soil1'],\n",
    "    ['soil1', 'soil1', 'soil3', 'soil2', 'soil3'],\n",
    "    ['soil3', 'soil3', 'soil3', 'soil1', 'soil1']\n",
    "]\n",
    "\n",
    "tractor_movement_standard(field_standard)"
   ]
  },
  {
   "cell_type": "markdown",
   "id": "12",
   "metadata": {},
   "source": [
    "**Output:** \n",
    "\n",
    "`[(0, 0), (0, 1), (0, 2), (0, 3), (0, 4), (1, 0), (1, 1), (1, 2), (1, 3), (1, 4), (2, 0), (2, 1), (2, 2), (2, 3), (2, 4), (3, 0), (3, 1), (3, 2), (3, 3), (3, 4), (4, 0), (4, 1), (4, 2), (4, 3), (4, 4), (5, 0), (5, 1), (5, 2), (5, 3), (5, 4), (6, 0), (6, 1), (6, 2), (6, 3), (6, 4), (7, 0), (7, 1), (7, 2), (7, 3), (7, 4), (8, 0), (8, 1), (8, 2), (8, 3), (8, 4), (9, 0), (9, 1), (9, 2), (9, 3), (9, 4)]`"
   ]
  },
  {
   "cell_type": "markdown",
   "id": "13",
   "metadata": {},
   "source": [
    "<br>\n",
    "\n",
    "**Input 2:**"
   ]
  },
  {
   "cell_type": "code",
   "execution_count": null,
   "id": "14",
   "metadata": {},
   "outputs": [],
   "source": [
    "field_wide = [\n",
    "    ['soil3', 'soil3', 'soil1', 'soil2', 'soil2', 'soil3', 'soil3', 'soil1', 'soil2', 'soil2', 'soil3', 'soil3', 'soil1', 'soil2', 'soil2'],\n",
    "    ['soil3', 'soil3', 'soil1', 'soil2','soil2', 'soil3', 'soil3']\n",
    "]\n",
    "\n",
    "tractor_movement_standard(field_wide)"
   ]
  },
  {
   "cell_type": "markdown",
   "id": "15",
   "metadata": {},
   "source": [
    "**Output:** \n",
    "\n",
    "`[(0, 0), (0, 1), (0, 2), (0, 3), (0, 4), (0, 5), (0, 6), (0, 7), (0, 8), (0, 9), (0, 10), (0, 11), (0, 12), (0, 13), (0, 14), (1, 0), (1, 1), (1, 2), (1, 3), (1, 4), (1, 5), (1, 6)]`"
   ]
  },
  {
   "cell_type": "markdown",
   "id": "16",
   "metadata": {},
   "source": [
    "## Challenge 2: Turning the tractor around"
   ]
  },
  {
   "cell_type": "markdown",
   "id": "17",
   "metadata": {},
   "source": [
    "> ⚠️ Do not change the name `reverse_list()`."
   ]
  },
  {
   "cell_type": "markdown",
   "id": "18",
   "metadata": {},
   "source": [
    "### Answer:"
   ]
  },
  {
   "cell_type": "code",
   "execution_count": null,
   "id": "19",
   "metadata": {},
   "outputs": [],
   "source": [
    "### START FUNCTION\n",
    "def reverse_list(input_list):\n",
    "    input_list.reverse()\n",
    "    return input_list\n",
    "\n",
    "### END FUNCTION"
   ]
  },
  {
   "cell_type": "markdown",
   "id": "20",
   "metadata": {},
   "source": [
    "Test your functions again to make sure they work as expected before submitting."
   ]
  },
  {
   "cell_type": "markdown",
   "id": "21",
   "metadata": {},
   "source": [
    "### Expected outputs:"
   ]
  },
  {
   "cell_type": "markdown",
   "id": "22",
   "metadata": {},
   "source": [
    "**Input 1:**"
   ]
  },
  {
   "cell_type": "code",
   "execution_count": null,
   "id": "23",
   "metadata": {},
   "outputs": [],
   "source": [
    "current_row = [0, 1, 2, 3, 4]\n",
    "\n",
    "reverse_list(current_row)"
   ]
  },
  {
   "cell_type": "markdown",
   "id": "24",
   "metadata": {},
   "source": [
    "**Ouptut:**\n",
    "\n",
    "`[4, 3, 2, 1, 0]`"
   ]
  },
  {
   "cell_type": "markdown",
   "id": "25",
   "metadata": {},
   "source": [
    "<br>\n",
    "\n",
    "**Input 2:**"
   ]
  },
  {
   "cell_type": "code",
   "execution_count": null,
   "id": "26",
   "metadata": {},
   "outputs": [],
   "source": [
    "current_row = [1, 3, 2, 0, 4]\n",
    "\n",
    "reverse_list(current_row)"
   ]
  },
  {
   "cell_type": "markdown",
   "id": "27",
   "metadata": {},
   "source": [
    "**Output:**\n",
    "\n",
    "`[4, 0, 2, 3, 1]`"
   ]
  },
  {
   "cell_type": "markdown",
   "id": "28",
   "metadata": {},
   "source": [
    "## Challenge 3: Ploughing a field realistically\n"
   ]
  },
  {
   "cell_type": "markdown",
   "id": "29",
   "metadata": {},
   "source": [
    "> ⚠️ Do not change the name `tractor_movement_realistic()`."
   ]
  },
  {
   "cell_type": "code",
   "execution_count": null,
   "id": "30",
   "metadata": {},
   "outputs": [],
   "source": [
    "### START FUNCTION\n",
    "def tractor_movement_realistic(field):\n",
    "    plough_movements = []\n",
    "    for row in range(len(field)):\n",
    "        if row % 2 == 0: \n",
    "            for col in range(len(field[row])):\n",
    "                plough_movements.append((row, col))\n",
    "        else: \n",
    "            for col in range(len(field[row]) - 1, -1, -1):\n",
    "                plough_movements.append((row, col))\n",
    "    return plough_movements\n",
    "### END FUNCTION"
   ]
  },
  {
   "cell_type": "markdown",
   "id": "31",
   "metadata": {},
   "source": [
    "Test your functions again to make sure they work as expected before submitting."
   ]
  },
  {
   "cell_type": "markdown",
   "id": "32",
   "metadata": {},
   "source": [
    "### Expected outputs:"
   ]
  },
  {
   "cell_type": "markdown",
   "id": "33",
   "metadata": {},
   "source": [
    "**Input 1:**"
   ]
  },
  {
   "cell_type": "code",
   "execution_count": null,
   "id": "34",
   "metadata": {},
   "outputs": [],
   "source": [
    "field_standard = [\n",
    "    ['soil3', 'soil3', 'soil1', 'soil2', 'soil2'],\n",
    "    ['soil2', 'soil3', 'soil2', 'soil1', 'soil3'],\n",
    "    ['soil2', 'soil3', 'soil1', 'soil3', 'soil3'],\n",
    "    ['soil3', 'soil2', 'soil3', 'soil3', 'soil2'],\n",
    "    ['soil3', 'soil2', 'soil1', 'soil3', 'soil2'],\n",
    "    ['soil2', 'soil3', 'soil3', 'soil1', 'soil3'],\n",
    "    ['soil3', 'soil1', 'soil3', 'soil2', 'soil2'],\n",
    "    ['soil2', 'soil1', 'soil2', 'soil2', 'soil1'],\n",
    "    ['soil1', 'soil1', 'soil3', 'soil2', 'soil3'],\n",
    "    ['soil3', 'soil3', 'soil3', 'soil1', 'soil1']\n",
    "]\n",
    "\n",
    "tractor_movement_realistic(field_standard)"
   ]
  },
  {
   "cell_type": "markdown",
   "id": "35",
   "metadata": {},
   "source": [
    "**Output**:\n",
    "\n",
    "`[(0, 0), (0, 1), (0, 2), (0, 3), (0, 4), (1, 4), (1, 3), (1, 2), (1, 1), (1, 0), (2, 0), (2, 1), (2, 2), (2, 3), (2, 4), (3, 4), (3, 3), (3, 2), (3, 1), (3, 0), (4, 0), (4, 1), (4, 2), (4, 3), (4, 4), (5, 4), (5, 3), (5, 2), (5, 1), (5, 0), (6, 0), (6, 1), (6, 2), (6, 3), (6, 4), (7, 4), (7, 3), (7, 2), (7, 1), (7, 0), (8, 0), (8, 1), (8, 2), (8, 3), (8, 4), (9, 4), (9, 3), (9, 2), (9, 1), (9, 0)]` \n",
    "\n",
    "Note the tractor goes to the next row, but stays in col 4: `...(0, 4), (1, 4)...`"
   ]
  },
  {
   "cell_type": "markdown",
   "id": "36",
   "metadata": {},
   "source": [
    "**Input 1:**"
   ]
  },
  {
   "cell_type": "code",
   "execution_count": null,
   "id": "37",
   "metadata": {},
   "outputs": [],
   "source": [
    "field_5x5 = [\n",
    " ['soil', 'soil', 'soil', 'soil', 'soil'],\n",
    " ['soil', 'soil', 'soil', 'soil', 'soil'],\n",
    " ['soil', 'soil', 'soil', 'soil', 'soil'],\n",
    " ['soil', 'soil', 'soil', 'soil', 'soil'],\n",
    " ['soil', 'soil', 'soil', 'soil', 'soil'],\n",
    "]\n",
    "tractor_movement_realistic(field_5x5)"
   ]
  },
  {
   "cell_type": "markdown",
   "id": "38",
   "metadata": {},
   "source": [
    "**Output**:\n",
    "\n",
    "`[(0, 0), (0, 1), (0, 2), (0, 3), (0, 4), (1, 4), (1, 3), (1, 2), (1, 1), (1, 0), (2, 0), (2, 1), (2, 2), (2, 3), (2, 4), (3, 4), (3, 3), (3, 2), (3, 1), (3, 0), (4, 0), (4, 1), (4, 2), (4, 3), (4, 4)]`"
   ]
  },
  {
   "cell_type": "markdown",
   "id": "39",
   "metadata": {
    "tags": []
   },
   "source": [
    "<br>"
   ]
  },
  {
   "cell_type": "markdown",
   "id": "40",
   "metadata": {
    "tags": []
   },
   "source": [
    "#  \n",
    "\n",
    "<div align=\"center\" style=\" font-size: 80%; text-align: center; margin: 0 auto\">\n",
    "<img src=\"https://raw.githubusercontent.com/Explore-AI/Pictures/master/ExploreAI_logos/EAI_Blue_Dark.png\"  style=\"width:200px\";/>\n",
    "</div>"
   ]
  }
 ],
 "metadata": {
  "kernelspec": {
   "display_name": "kaggle_spotify_dataset",
   "language": "python",
   "name": "python3"
  },
  "language_info": {
   "codemirror_mode": {
    "name": "ipython",
    "version": 3
   },
   "file_extension": ".py",
   "mimetype": "text/x-python",
   "name": "python",
   "nbconvert_exporter": "python",
   "pygments_lexer": "ipython3",
   "version": "3.11.13"
  }
 },
 "nbformat": 4,
 "nbformat_minor": 5
}

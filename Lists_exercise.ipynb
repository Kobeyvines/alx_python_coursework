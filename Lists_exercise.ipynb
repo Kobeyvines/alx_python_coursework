{
 "cells": [
  {
   "cell_type": "markdown",
   "id": "0",
   "metadata": {},
   "source": [
    "<div align=\"center\" style=\" font-size: 80%; text-align: center; margin: 0 auto\">\n",
    "<img src=\"https://raw.githubusercontent.com/Explore-AI/Pictures/master/Python-Notebook-Banners/Exercise.png\"  style=\"display: block; margin-left: auto; margin-right: auto;\";/>\n",
    "</div>"
   ]
  },
  {
   "cell_type": "markdown",
   "id": "1",
   "metadata": {},
   "source": [
    "# Exercise: Lists\n"
   ]
  },
  {
   "cell_type": "markdown",
   "id": "2",
   "metadata": {},
   "source": [
    "In this exercise, we'll be exploring how we can create, manipulate, and slice lists. \n"
   ]
  },
  {
   "cell_type": "markdown",
   "id": "3",
   "metadata": {
    "tags": []
   },
   "source": [
    "## Learning objectives\n",
    "\n",
    "In this train, we will: \n",
    "- Create lists.\n",
    "- Manipulate and slice lists.\n",
    "- Work with nested lists.\n"
   ]
  },
  {
   "cell_type": "markdown",
   "id": "4",
   "metadata": {},
   "source": [
    "## Exercises"
   ]
  },
  {
   "cell_type": "markdown",
   "id": "5",
   "metadata": {},
   "source": [
    "### Exercise 1\n",
    "\n",
    "1. Suppose we want to label the trees we plant in our plantation, using integer numbers. Let's create a list containing integers from 1 to 5, named `first_trees`. "
   ]
  },
  {
   "cell_type": "code",
   "execution_count": null,
   "id": "6",
   "metadata": {},
   "outputs": [],
   "source": [
    "# insert code here\n",
    "first_trees = list(range(1,6))\n",
    "print(first_trees)"
   ]
  },
  {
   "cell_type": "markdown",
   "id": "7",
   "metadata": {},
   "source": [
    "*If this list was created by specifying each element individually, see whether you can find another way to create the variable.* "
   ]
  },
  {
   "cell_type": "markdown",
   "id": "8",
   "metadata": {},
   "source": [
    "<br>\n",
    "\n",
    "2. Our plantation has expanded a lot in the last few weeks. We need to create a list of trees planted within 15 cm of an irrigation device. Create a list called `tree_list`,  starting at 20, ranging to 140, in increments of 4 (i.e. `20, 24,...,140`).\n"
   ]
  },
  {
   "cell_type": "code",
   "execution_count": null,
   "id": "9",
   "metadata": {},
   "outputs": [],
   "source": [
    "# insert code here\n",
    "tree_list = list(range(20,144,4))\n",
    "print(tree_list)"
   ]
  },
  {
   "cell_type": "markdown",
   "id": "10",
   "metadata": {},
   "source": [
    "<br>\n",
    "\n",
    "3. When we created our irrigation tree list, we forgot about a tree that is watered by an older irrigation system.  Append the number `400` to the end of the tree_list."
   ]
  },
  {
   "cell_type": "code",
   "execution_count": null,
   "id": "11",
   "metadata": {},
   "outputs": [],
   "source": [
    "# insert code here\n",
    "tree_list.append(400)\n",
    "print(tree_list)"
   ]
  },
  {
   "cell_type": "markdown",
   "id": "12",
   "metadata": {},
   "source": [
    "<br>\n",
    "\n",
    "4. We decide to install irrigation for three older trees that were planted long ago. Create a new variable called `combined_trees` by **combining** our existing `tree_list` with another list, `old_trees = [500, 600, 700]`. Your list should now contain 35 elements."
   ]
  },
  {
   "cell_type": "code",
   "execution_count": null,
   "id": "13",
   "metadata": {},
   "outputs": [],
   "source": [
    "# insert code here\n",
    "old_trees = [500,600,700]\n",
    "combined_trees = tree_list + old_trees\n",
    "print(len(combined_trees))\n"
   ]
  },
  {
   "cell_type": "markdown",
   "id": "14",
   "metadata": {},
   "source": [
    "<br>\n",
    "\n",
    "5. We are interested in creating a **list of lists** or **nested list**. We have two lists of seed-producing plants, `conifers` and `cycads`. Given these lists in the code block below, create a variable called `gymnosperms`, the family group to which these trees belong. \n",
    "\n"
   ]
  },
  {
   "cell_type": "code",
   "execution_count": null,
   "id": "15",
   "metadata": {},
   "outputs": [],
   "source": [
    "conifers = [\"Pine\", \"Fir\", \"Juniper\"]\n",
    "cycads = [\"Cycas\", \"Sago palm\", \"Zamia\"]\n",
    "\n",
    "# insert code here\n",
    "gymnosperms = [conifers, cycads]\n"
   ]
  },
  {
   "cell_type": "markdown",
   "id": "16",
   "metadata": {},
   "source": [
    "<br>\n",
    "\n",
    "6. We are specifically interested in planting cycas and sago palms. Use indexing on the `gymnosperms` list to create a new list that consists of `Cycas` and `Sago palm`."
   ]
  },
  {
   "cell_type": "code",
   "execution_count": null,
   "id": "17",
   "metadata": {},
   "outputs": [],
   "source": [
    "# insert code here\n",
    "new_list = list(gymnosperms[1][0:2])\n",
    "print(new_list)"
   ]
  },
  {
   "cell_type": "markdown",
   "id": "18",
   "metadata": {},
   "source": [
    "<br>\n",
    "\n",
    "7. We need to combine the plants within the `conifers` and `cycads` lists, then sort them in alphabetical order. Create a list, `ordered_plants`, to store them in. \n",
    "\n",
    "Hint: The list variable should contain all the plants as individual elements before sorting it."
   ]
  },
  {
   "cell_type": "code",
   "execution_count": null,
   "id": "19",
   "metadata": {},
   "outputs": [],
   "source": [
    "# insert code here\n",
    "plants = conifers + cycads\n",
    "ordered_plants = sorted(plants, reverse=False)\n",
    "ordered_plants"
   ]
  },
  {
   "cell_type": "markdown",
   "id": "20",
   "metadata": {},
   "source": [
    "## Solutions"
   ]
  },
  {
   "cell_type": "markdown",
   "id": "21",
   "metadata": {},
   "source": [
    "### Exercise 1\n",
    "\n",
    "1. Suppose we want to label the trees we plant in our plantation using integer numbers. Let's create a list containing integers from 1 to 5, named `first_trees`. "
   ]
  },
  {
   "cell_type": "code",
   "execution_count": null,
   "id": "22",
   "metadata": {},
   "outputs": [],
   "source": [
    "# insert code here\n",
    "# option 1: specifying individual elements\n",
    "first_trees = [1, 2, 3, 4, 5]\n",
    "print('Option 1: ',first_trees)\n",
    "\n",
    "# option 2: using the range function\n",
    "first_trees = list(range(1,6))\n",
    "print('Option 2 using range: ',first_trees)"
   ]
  },
  {
   "cell_type": "markdown",
   "id": "23",
   "metadata": {},
   "source": [
    "There are **two ways to create our list** – explicitly listing the elements using square brackets, or using the `range` function, which allows us to specify a starting and an end point for the elements we'd like to include. "
   ]
  },
  {
   "cell_type": "markdown",
   "id": "24",
   "metadata": {},
   "source": [
    "<br>\n",
    "\n",
    "2. Our plantation has expanded a lot in the last few weeks. We need to create a list of trees planted within 15 cm of an irrigation device. Create a list called `tree_list`,  starting at 20, ranging to 140, in increments of 4 (i.e. `20, 24,...,140`)."
   ]
  },
  {
   "cell_type": "code",
   "execution_count": null,
   "id": "25",
   "metadata": {},
   "outputs": [],
   "source": [
    "# insert code here\n",
    "tree_list = list(range(20, 144, 4))\n",
    "print(tree_list)"
   ]
  },
  {
   "cell_type": "markdown",
   "id": "26",
   "metadata": {},
   "source": [
    "In the above question, we've illustrated the ease with which we can use the `range()` function to create lists, especially when we require **many elements in specific intervals**. "
   ]
  },
  {
   "cell_type": "markdown",
   "id": "27",
   "metadata": {},
   "source": [
    "<br>\n",
    "\n",
    "3. When we created our irrigation tree list, we forgot about a tree that is watered by an older irrigation system.  Append the number `400` to the end of the tree_list."
   ]
  },
  {
   "cell_type": "code",
   "execution_count": null,
   "id": "28",
   "metadata": {},
   "outputs": [],
   "source": [
    "# insert code here\n",
    "tree_list.append(400)\n",
    "print(tree_list)"
   ]
  },
  {
   "cell_type": "markdown",
   "id": "29",
   "metadata": {},
   "source": [
    "By using the `append` method, we can add an element to our tree list. \n"
   ]
  },
  {
   "cell_type": "markdown",
   "id": "30",
   "metadata": {},
   "source": [
    "<br>\n",
    "\n",
    "4. We decide to install irrigation for three older trees that were planted long ago. Create a new variable called `combined_trees` by **combining** our existing `tree_list` with another list, `old_trees = [500, 600, 700]`. Your list should now contain 35 elements."
   ]
  },
  {
   "cell_type": "code",
   "execution_count": null,
   "id": "31",
   "metadata": {},
   "outputs": [],
   "source": [
    "# insert code here\n",
    "old_trees = [500, 600, 700]\n",
    "combined_trees = tree_list+old_trees\n",
    "print(combined_trees)\n",
    "len(combined_trees)"
   ]
  },
  {
   "cell_type": "markdown",
   "id": "32",
   "metadata": {},
   "source": [
    "We've added the elements from the `old_trees` to our existing `tree_list` by using the `+` operator. If we wanted to add the list as a **single element**, `append` would've been the appropriate command. "
   ]
  },
  {
   "cell_type": "markdown",
   "id": "33",
   "metadata": {},
   "source": [
    "<br>\n",
    "\n",
    "5. We are interested in creating a **list of lists** or **nested list**. We have two lists of seed-producing plants, `conifers` and `cycads`. Given these lists in the code block below, create a variable called `gymnosperms`, the family group to which these trees belong. \n"
   ]
  },
  {
   "cell_type": "code",
   "execution_count": null,
   "id": "34",
   "metadata": {},
   "outputs": [],
   "source": [
    "conifers = [\"Pine\",\"Fir\",\"Juniper\"]\n",
    "cycads = [\"Cycas\",\"Sago palm\",\"Zamia\"]\n",
    "\n",
    "# insert code here\n",
    "gymnosperms = [conifers,cycads]\n",
    "print(gymnosperms)\n"
   ]
  },
  {
   "cell_type": "markdown",
   "id": "35",
   "metadata": {},
   "source": [
    "Note that we can easily create a list of lists by using our list constructor `[]` and our given lists, `conifers` and `cycads`. "
   ]
  },
  {
   "cell_type": "markdown",
   "id": "36",
   "metadata": {},
   "source": [
    "<br>\n",
    "\n",
    "6. We are specifically interested in planting cycas and sago palms. Use indexing on the `gymnosperms` list to create a new list that consists of `Cycas` and `Sago palm`."
   ]
  },
  {
   "cell_type": "code",
   "execution_count": null,
   "id": "37",
   "metadata": {},
   "outputs": [],
   "source": [
    "# insert code here\n",
    "new_list = gymnosperms[1][0:2]\n",
    "new_list"
   ]
  },
  {
   "cell_type": "markdown",
   "id": "38",
   "metadata": {},
   "source": [
    "The `gymnosperm` variable is a **list of lists** or a **nested list**. Fortunately, we can still access elements in nested lists by **using indexing**, drilling down to the individual elements we need. The **slice** of the inner list (`cycads`) is **returned as a list** itself, so there is no need to convert that to a list. "
   ]
  },
  {
   "cell_type": "markdown",
   "id": "39",
   "metadata": {},
   "source": [
    "<br>\n",
    "\n",
    "7. We need to combine the plants within the `conifers` and `cycads` lists, then sort them in alphabetical order. Create a list, `ordered_plants`, to store them in. \n",
    "\n",
    "Hint: The list variable should contain all the plants as individual elements before sorting it."
   ]
  },
  {
   "cell_type": "code",
   "execution_count": null,
   "id": "40",
   "metadata": {},
   "outputs": [],
   "source": [
    "# insert code here\n",
    "plants = cycads + conifers\n",
    "print(plants)\n",
    "\n",
    "# option 1: use sorted()\n",
    "ordered_plants = sorted(plants, reverse=False)\n",
    "print(ordered_plants)\n",
    "\n"
   ]
  },
  {
   "cell_type": "code",
   "execution_count": null,
   "id": "41",
   "metadata": {},
   "outputs": [],
   "source": [
    "# insert code here\n",
    "# option 2: use sort() - this alters the original variable and returns None, \n",
    "# so it cannot be used directly in print statement\n",
    "print(plants)\n",
    "plants_copy = plants.copy()\n",
    "plants_copy.sort()\n",
    "print(plants_copy)"
   ]
  },
  {
   "cell_type": "markdown",
   "id": "42",
   "metadata": {},
   "source": [
    "Both `sort()` and `sorted()` allow us to order our lists, but an important difference between them is that `sort()` returns a `None` value (modifying the original variable), whereas `sorted()` returns a list. \n",
    "Be sure to go and look at the documentation for these functions. "
   ]
  },
  {
   "cell_type": "markdown",
   "id": "43",
   "metadata": {
    "tags": []
   },
   "source": [
    "## Summary\n",
    "\n",
    "In this exercise, we looked at how to create, manipulate, and slice lists. Nested lists are just another version of a normal list, and the same operations for indexing apply when we're trying to extract elements. "
   ]
  },
  {
   "cell_type": "markdown",
   "id": "44",
   "metadata": {
    "tags": []
   },
   "source": [
    "#  \n",
    "\n",
    "<div align=\"center\" style=\" font-size: 80%; text-align: center; margin: 0 auto\">\n",
    "<img src=\"https://raw.githubusercontent.com/Explore-AI/Pictures/refs/heads/master/ALX_banners/ALX_Navy.png\"  style=\"width:140px\";/>\n",
    "</div>"
   ]
  }
 ],
 "metadata": {
  "kernelspec": {
   "display_name": "kaggle_spotify_dataset",
   "language": "python",
   "name": "python3"
  },
  "language_info": {
   "codemirror_mode": {
    "name": "ipython",
    "version": 3
   },
   "file_extension": ".py",
   "mimetype": "text/x-python",
   "name": "python",
   "nbconvert_exporter": "python",
   "pygments_lexer": "ipython3",
   "version": "3.11.13"
  }
 },
 "nbformat": 4,
 "nbformat_minor": 5
}
